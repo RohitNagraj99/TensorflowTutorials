{
 "cells": [
  {
   "cell_type": "code",
   "execution_count": 1,
   "metadata": {},
   "outputs": [],
   "source": [
    "from __future__ import absolute_import, division, print_function, unicode_literals\n",
    "import tensorflow as tf\n",
    "import pandas as pd"
   ]
  },
  {
   "cell_type": "code",
   "execution_count": 2,
   "metadata": {},
   "outputs": [],
   "source": [
    "COLUMN_NAMES = ['SepalLength', 'SepalWidth', 'PetalLength', 'PetalWidth', \"Species\"]\n",
    "SPECIES = ['Setosa', 'Versicolor', 'Virginica']"
   ]
  },
  {
   "cell_type": "code",
   "execution_count": 3,
   "metadata": {},
   "outputs": [
    {
     "name": "stdout",
     "output_type": "stream",
     "text": [
      "Downloading data from https://storage.googleapis.com/download.tensorflow.org/data/iris_training.csv\n",
      "8192/2194 [================================================================================================================] - 0s 2us/step\n",
      "Downloading data from https://storage.googleapis.com/download.tensorflow.org/data/iris_test.csv\n",
      "8192/573 [============================================================================================================================================================================================================================================================================================================================================================================================================================================] - 0s 0us/step\n"
     ]
    }
   ],
   "source": [
    "train_path = tf.keras.utils.get_file('iris_training.csv', 'https://storage.googleapis.com/download.tensorflow.org/data/iris_training.csv')\n",
    "test_path = tf.keras.utils.get_file('iris_test.csv', 'https://storage.googleapis.com/download.tensorflow.org/data/iris_test.csv')"
   ]
  },
  {
   "cell_type": "code",
   "execution_count": 4,
   "metadata": {},
   "outputs": [],
   "source": [
    "train = pd.read_csv(train_path, names=COLUMN_NAMES, header=0)\n",
    "test = pd.read_csv(test_path, names=COLUMN_NAMES, header=0)"
   ]
  },
  {
   "cell_type": "code",
   "execution_count": 5,
   "metadata": {},
   "outputs": [
    {
     "data": {
      "text/html": [
       "<div>\n",
       "<style scoped>\n",
       "    .dataframe tbody tr th:only-of-type {\n",
       "        vertical-align: middle;\n",
       "    }\n",
       "\n",
       "    .dataframe tbody tr th {\n",
       "        vertical-align: top;\n",
       "    }\n",
       "\n",
       "    .dataframe thead th {\n",
       "        text-align: right;\n",
       "    }\n",
       "</style>\n",
       "<table border=\"1\" class=\"dataframe\">\n",
       "  <thead>\n",
       "    <tr style=\"text-align: right;\">\n",
       "      <th></th>\n",
       "      <th>SepalLength</th>\n",
       "      <th>SepalWidth</th>\n",
       "      <th>PetalLength</th>\n",
       "      <th>PetalWidth</th>\n",
       "      <th>Species</th>\n",
       "    </tr>\n",
       "  </thead>\n",
       "  <tbody>\n",
       "    <tr>\n",
       "      <td>0</td>\n",
       "      <td>6.4</td>\n",
       "      <td>2.8</td>\n",
       "      <td>5.6</td>\n",
       "      <td>2.2</td>\n",
       "      <td>2</td>\n",
       "    </tr>\n",
       "    <tr>\n",
       "      <td>1</td>\n",
       "      <td>5.0</td>\n",
       "      <td>2.3</td>\n",
       "      <td>3.3</td>\n",
       "      <td>1.0</td>\n",
       "      <td>1</td>\n",
       "    </tr>\n",
       "    <tr>\n",
       "      <td>2</td>\n",
       "      <td>4.9</td>\n",
       "      <td>2.5</td>\n",
       "      <td>4.5</td>\n",
       "      <td>1.7</td>\n",
       "      <td>2</td>\n",
       "    </tr>\n",
       "    <tr>\n",
       "      <td>3</td>\n",
       "      <td>4.9</td>\n",
       "      <td>3.1</td>\n",
       "      <td>1.5</td>\n",
       "      <td>0.1</td>\n",
       "      <td>0</td>\n",
       "    </tr>\n",
       "    <tr>\n",
       "      <td>4</td>\n",
       "      <td>5.7</td>\n",
       "      <td>3.8</td>\n",
       "      <td>1.7</td>\n",
       "      <td>0.3</td>\n",
       "      <td>0</td>\n",
       "    </tr>\n",
       "  </tbody>\n",
       "</table>\n",
       "</div>"
      ],
      "text/plain": [
       "   SepalLength  SepalWidth  PetalLength  PetalWidth  Species\n",
       "0          6.4         2.8          5.6         2.2        2\n",
       "1          5.0         2.3          3.3         1.0        1\n",
       "2          4.9         2.5          4.5         1.7        2\n",
       "3          4.9         3.1          1.5         0.1        0\n",
       "4          5.7         3.8          1.7         0.3        0"
      ]
     },
     "execution_count": 5,
     "metadata": {},
     "output_type": "execute_result"
    }
   ],
   "source": [
    "train.head()"
   ]
  },
  {
   "cell_type": "code",
   "execution_count": 6,
   "metadata": {},
   "outputs": [],
   "source": [
    "train_y = train.pop('Species')\n",
    "test_y = test.pop(\"Species\")"
   ]
  },
  {
   "cell_type": "code",
   "execution_count": 7,
   "metadata": {},
   "outputs": [
    {
     "data": {
      "text/html": [
       "<div>\n",
       "<style scoped>\n",
       "    .dataframe tbody tr th:only-of-type {\n",
       "        vertical-align: middle;\n",
       "    }\n",
       "\n",
       "    .dataframe tbody tr th {\n",
       "        vertical-align: top;\n",
       "    }\n",
       "\n",
       "    .dataframe thead th {\n",
       "        text-align: right;\n",
       "    }\n",
       "</style>\n",
       "<table border=\"1\" class=\"dataframe\">\n",
       "  <thead>\n",
       "    <tr style=\"text-align: right;\">\n",
       "      <th></th>\n",
       "      <th>SepalLength</th>\n",
       "      <th>SepalWidth</th>\n",
       "      <th>PetalLength</th>\n",
       "      <th>PetalWidth</th>\n",
       "    </tr>\n",
       "  </thead>\n",
       "  <tbody>\n",
       "    <tr>\n",
       "      <td>0</td>\n",
       "      <td>6.4</td>\n",
       "      <td>2.8</td>\n",
       "      <td>5.6</td>\n",
       "      <td>2.2</td>\n",
       "    </tr>\n",
       "    <tr>\n",
       "      <td>1</td>\n",
       "      <td>5.0</td>\n",
       "      <td>2.3</td>\n",
       "      <td>3.3</td>\n",
       "      <td>1.0</td>\n",
       "    </tr>\n",
       "    <tr>\n",
       "      <td>2</td>\n",
       "      <td>4.9</td>\n",
       "      <td>2.5</td>\n",
       "      <td>4.5</td>\n",
       "      <td>1.7</td>\n",
       "    </tr>\n",
       "    <tr>\n",
       "      <td>3</td>\n",
       "      <td>4.9</td>\n",
       "      <td>3.1</td>\n",
       "      <td>1.5</td>\n",
       "      <td>0.1</td>\n",
       "    </tr>\n",
       "    <tr>\n",
       "      <td>4</td>\n",
       "      <td>5.7</td>\n",
       "      <td>3.8</td>\n",
       "      <td>1.7</td>\n",
       "      <td>0.3</td>\n",
       "    </tr>\n",
       "  </tbody>\n",
       "</table>\n",
       "</div>"
      ],
      "text/plain": [
       "   SepalLength  SepalWidth  PetalLength  PetalWidth\n",
       "0          6.4         2.8          5.6         2.2\n",
       "1          5.0         2.3          3.3         1.0\n",
       "2          4.9         2.5          4.5         1.7\n",
       "3          4.9         3.1          1.5         0.1\n",
       "4          5.7         3.8          1.7         0.3"
      ]
     },
     "execution_count": 7,
     "metadata": {},
     "output_type": "execute_result"
    }
   ],
   "source": [
    "train.head()"
   ]
  },
  {
   "cell_type": "code",
   "execution_count": 14,
   "metadata": {},
   "outputs": [
    {
     "data": {
      "text/plain": [
       "Index(['SepalLength', 'SepalWidth', 'PetalLength', 'PetalWidth'], dtype='object')"
      ]
     },
     "execution_count": 14,
     "metadata": {},
     "output_type": "execute_result"
    }
   ],
   "source": [
    "train.keys()"
   ]
  },
  {
   "cell_type": "code",
   "execution_count": 10,
   "metadata": {},
   "outputs": [],
   "source": [
    "def input_fn(features, labels, training=True, batch_size=256):\n",
    "    dataset = tf.data.Dataset.from_tensor_slices((dict(features), labels))\n",
    "    if training:\n",
    "        dataset = dataset.shuffle(1000).repeat()\n",
    "    return dataset.batch(batch_size)"
   ]
  },
  {
   "cell_type": "code",
   "execution_count": 15,
   "metadata": {},
   "outputs": [
    {
     "name": "stdout",
     "output_type": "stream",
     "text": [
      "[NumericColumn(key='SepalLength', shape=(1,), default_value=None, dtype=tf.float32, normalizer_fn=None), NumericColumn(key='SepalWidth', shape=(1,), default_value=None, dtype=tf.float32, normalizer_fn=None), NumericColumn(key='PetalLength', shape=(1,), default_value=None, dtype=tf.float32, normalizer_fn=None), NumericColumn(key='PetalWidth', shape=(1,), default_value=None, dtype=tf.float32, normalizer_fn=None)]\n"
     ]
    }
   ],
   "source": [
    "feature_columns = []\n",
    "for key in train.keys():\n",
    "    feature_columns.append(tf.feature_column.numeric_column(key=key))\n",
    "print(feature_columns)"
   ]
  },
  {
   "cell_type": "code",
   "execution_count": 16,
   "metadata": {},
   "outputs": [
    {
     "name": "stdout",
     "output_type": "stream",
     "text": [
      "INFO:tensorflow:Using default config.\n",
      "WARNING:tensorflow:Using temporary folder as model directory: /tmp/tmpnrc3y_yh\n",
      "INFO:tensorflow:Using config: {'_model_dir': '/tmp/tmpnrc3y_yh', '_tf_random_seed': None, '_save_summary_steps': 100, '_save_checkpoints_steps': None, '_save_checkpoints_secs': 600, '_session_config': allow_soft_placement: true\n",
      "graph_options {\n",
      "  rewrite_options {\n",
      "    meta_optimizer_iterations: ONE\n",
      "  }\n",
      "}\n",
      ", '_keep_checkpoint_max': 5, '_keep_checkpoint_every_n_hours': 10000, '_log_step_count_steps': 100, '_train_distribute': None, '_device_fn': None, '_protocol': None, '_eval_distribute': None, '_experimental_distribute': None, '_experimental_max_worker_delay_secs': None, '_session_creation_timeout_secs': 7200, '_service': None, '_cluster_spec': ClusterSpec({}), '_task_type': 'worker', '_task_id': 0, '_global_id_in_cluster': 0, '_master': '', '_evaluation_master': '', '_is_chief': True, '_num_ps_replicas': 0, '_num_worker_replicas': 1}\n"
     ]
    }
   ],
   "source": [
    "classifier = tf.estimator.DNNClassifier(feature_columns=feature_columns, hidden_units=[30,10],\n",
    "                                       n_classes=3)"
   ]
  },
  {
   "cell_type": "code",
   "execution_count": 17,
   "metadata": {},
   "outputs": [
    {
     "name": "stdout",
     "output_type": "stream",
     "text": [
      "WARNING:tensorflow:From /home/rohit/anaconda3/lib/python3.7/site-packages/tensorflow_core/python/ops/resource_variable_ops.py:1635: calling BaseResourceVariable.__init__ (from tensorflow.python.ops.resource_variable_ops) with constraint is deprecated and will be removed in a future version.\n",
      "Instructions for updating:\n",
      "If using Keras pass *_constraint arguments to layers.\n",
      "WARNING:tensorflow:From /home/rohit/anaconda3/lib/python3.7/site-packages/tensorflow_core/python/training/training_util.py:236: Variable.initialized_value (from tensorflow.python.ops.variables) is deprecated and will be removed in a future version.\n",
      "Instructions for updating:\n",
      "Use Variable.read_value. Variables in 2.X are initialized automatically both in eager and graph (inside tf.defun) contexts.\n",
      "INFO:tensorflow:Calling model_fn.\n",
      "WARNING:tensorflow:Layer dnn is casting an input tensor from dtype float64 to the layer's dtype of float32, which is new behavior in TensorFlow 2.  The layer has dtype float32 because it's dtype defaults to floatx.\n",
      "\n",
      "If you intended to run this layer in float32, you can safely ignore this warning. If in doubt, this warning is likely only an issue if you are porting a TensorFlow 1.X model to TensorFlow 2.\n",
      "\n",
      "To change all layers to have dtype float64 by default, call `tf.keras.backend.set_floatx('float64')`. To change just this layer, pass dtype='float64' to the layer constructor. If you are the author of this layer, you can disable autocasting by passing autocast=False to the base Layer constructor.\n",
      "\n",
      "WARNING:tensorflow:From /home/rohit/anaconda3/lib/python3.7/site-packages/tensorflow_core/python/keras/optimizer_v2/adagrad.py:103: calling Constant.__init__ (from tensorflow.python.ops.init_ops) with dtype is deprecated and will be removed in a future version.\n",
      "Instructions for updating:\n",
      "Call initializer instance with the dtype argument instead of passing it to the constructor\n",
      "INFO:tensorflow:Done calling model_fn.\n",
      "INFO:tensorflow:Create CheckpointSaverHook.\n",
      "INFO:tensorflow:Graph was finalized.\n",
      "INFO:tensorflow:Running local_init_op.\n",
      "INFO:tensorflow:Done running local_init_op.\n",
      "INFO:tensorflow:Saving checkpoints for 0 into /tmp/tmpnrc3y_yh/model.ckpt.\n",
      "INFO:tensorflow:loss = 1.2174827, step = 0\n",
      "INFO:tensorflow:global_step/sec: 158.988\n",
      "INFO:tensorflow:loss = 0.9499292, step = 100 (0.633 sec)\n",
      "INFO:tensorflow:global_step/sec: 154.887\n",
      "INFO:tensorflow:loss = 0.9020442, step = 200 (0.645 sec)\n",
      "INFO:tensorflow:global_step/sec: 156.575\n",
      "INFO:tensorflow:loss = 0.85758793, step = 300 (0.639 sec)\n",
      "INFO:tensorflow:global_step/sec: 223.708\n",
      "INFO:tensorflow:loss = 0.81916285, step = 400 (0.447 sec)\n",
      "INFO:tensorflow:global_step/sec: 156.06\n",
      "INFO:tensorflow:loss = 0.8046087, step = 500 (0.641 sec)\n",
      "INFO:tensorflow:global_step/sec: 155.141\n",
      "INFO:tensorflow:loss = 0.7875584, step = 600 (0.644 sec)\n",
      "INFO:tensorflow:global_step/sec: 153.806\n",
      "INFO:tensorflow:loss = 0.7724271, step = 700 (0.650 sec)\n",
      "INFO:tensorflow:global_step/sec: 152.383\n",
      "INFO:tensorflow:loss = 0.75786144, step = 800 (0.656 sec)\n",
      "INFO:tensorflow:global_step/sec: 159.672\n",
      "INFO:tensorflow:loss = 0.73141855, step = 900 (0.627 sec)\n",
      "INFO:tensorflow:global_step/sec: 157.228\n",
      "INFO:tensorflow:loss = 0.70703185, step = 1000 (0.635 sec)\n",
      "INFO:tensorflow:global_step/sec: 181.62\n",
      "INFO:tensorflow:loss = 0.7012228, step = 1100 (0.549 sec)\n",
      "INFO:tensorflow:global_step/sec: 198.427\n",
      "INFO:tensorflow:loss = 0.68078566, step = 1200 (0.507 sec)\n",
      "INFO:tensorflow:global_step/sec: 155.737\n",
      "INFO:tensorflow:loss = 0.66679406, step = 1300 (0.643 sec)\n",
      "INFO:tensorflow:global_step/sec: 160.361\n",
      "INFO:tensorflow:loss = 0.661742, step = 1400 (0.622 sec)\n",
      "INFO:tensorflow:global_step/sec: 157.381\n",
      "INFO:tensorflow:loss = 0.6370889, step = 1500 (0.636 sec)\n",
      "INFO:tensorflow:global_step/sec: 158.04\n",
      "INFO:tensorflow:loss = 0.63808674, step = 1600 (0.633 sec)\n",
      "INFO:tensorflow:global_step/sec: 149.9\n",
      "INFO:tensorflow:loss = 0.62525964, step = 1700 (0.668 sec)\n",
      "INFO:tensorflow:global_step/sec: 160.841\n",
      "INFO:tensorflow:loss = 0.6010207, step = 1800 (0.621 sec)\n",
      "INFO:tensorflow:global_step/sec: 157.945\n",
      "INFO:tensorflow:loss = 0.5878639, step = 1900 (0.634 sec)\n",
      "INFO:tensorflow:global_step/sec: 165.229\n",
      "INFO:tensorflow:loss = 0.5928037, step = 2000 (0.606 sec)\n",
      "INFO:tensorflow:global_step/sec: 158.353\n",
      "INFO:tensorflow:loss = 0.57218033, step = 2100 (0.630 sec)\n",
      "INFO:tensorflow:global_step/sec: 163.714\n",
      "INFO:tensorflow:loss = 0.5454484, step = 2200 (0.612 sec)\n",
      "INFO:tensorflow:global_step/sec: 168.981\n",
      "INFO:tensorflow:loss = 0.5639561, step = 2300 (0.591 sec)\n",
      "INFO:tensorflow:global_step/sec: 159.959\n",
      "INFO:tensorflow:loss = 0.5399629, step = 2400 (0.625 sec)\n",
      "INFO:tensorflow:global_step/sec: 163.447\n",
      "INFO:tensorflow:loss = 0.54077977, step = 2500 (0.613 sec)\n",
      "INFO:tensorflow:global_step/sec: 162.943\n",
      "INFO:tensorflow:loss = 0.5283137, step = 2600 (0.614 sec)\n",
      "INFO:tensorflow:global_step/sec: 165.422\n",
      "INFO:tensorflow:loss = 0.51972103, step = 2700 (0.604 sec)\n",
      "INFO:tensorflow:global_step/sec: 156.19\n",
      "INFO:tensorflow:loss = 0.51038307, step = 2800 (0.641 sec)\n",
      "INFO:tensorflow:global_step/sec: 161.69\n",
      "INFO:tensorflow:loss = 0.5089718, step = 2900 (0.619 sec)\n",
      "INFO:tensorflow:global_step/sec: 164.082\n",
      "INFO:tensorflow:loss = 0.49516326, step = 3000 (0.609 sec)\n",
      "INFO:tensorflow:global_step/sec: 156.839\n",
      "INFO:tensorflow:loss = 0.48452294, step = 3100 (0.638 sec)\n",
      "INFO:tensorflow:global_step/sec: 158.724\n",
      "INFO:tensorflow:loss = 0.48275787, step = 3200 (0.629 sec)\n",
      "INFO:tensorflow:global_step/sec: 165.329\n",
      "INFO:tensorflow:loss = 0.47763228, step = 3300 (0.605 sec)\n",
      "INFO:tensorflow:global_step/sec: 159.511\n",
      "INFO:tensorflow:loss = 0.47298482, step = 3400 (0.627 sec)\n",
      "INFO:tensorflow:global_step/sec: 155.539\n",
      "INFO:tensorflow:loss = 0.46423995, step = 3500 (0.644 sec)\n",
      "INFO:tensorflow:global_step/sec: 157.608\n",
      "INFO:tensorflow:loss = 0.45313168, step = 3600 (0.634 sec)\n",
      "INFO:tensorflow:global_step/sec: 157.121\n",
      "INFO:tensorflow:loss = 0.45735848, step = 3700 (0.637 sec)\n",
      "INFO:tensorflow:global_step/sec: 244.297\n",
      "INFO:tensorflow:loss = 0.43031925, step = 3800 (0.407 sec)\n",
      "INFO:tensorflow:global_step/sec: 242.473\n",
      "INFO:tensorflow:loss = 0.43434164, step = 3900 (0.415 sec)\n",
      "INFO:tensorflow:global_step/sec: 212.505\n",
      "INFO:tensorflow:loss = 0.4389941, step = 4000 (0.469 sec)\n",
      "INFO:tensorflow:global_step/sec: 259.582\n",
      "INFO:tensorflow:loss = 0.42525834, step = 4100 (0.386 sec)\n",
      "INFO:tensorflow:global_step/sec: 278.387\n",
      "INFO:tensorflow:loss = 0.42073682, step = 4200 (0.358 sec)\n",
      "INFO:tensorflow:global_step/sec: 232.517\n",
      "INFO:tensorflow:loss = 0.43083593, step = 4300 (0.433 sec)\n",
      "INFO:tensorflow:global_step/sec: 158.313\n",
      "INFO:tensorflow:loss = 0.41495076, step = 4400 (0.631 sec)\n",
      "INFO:tensorflow:global_step/sec: 158.77\n",
      "INFO:tensorflow:loss = 0.40465364, step = 4500 (0.630 sec)\n",
      "INFO:tensorflow:global_step/sec: 154.193\n",
      "INFO:tensorflow:loss = 0.4045685, step = 4600 (0.648 sec)\n",
      "INFO:tensorflow:global_step/sec: 148.348\n",
      "INFO:tensorflow:loss = 0.40454218, step = 4700 (0.674 sec)\n",
      "INFO:tensorflow:global_step/sec: 163.309\n",
      "INFO:tensorflow:loss = 0.3920188, step = 4800 (0.612 sec)\n",
      "INFO:tensorflow:global_step/sec: 163.181\n",
      "INFO:tensorflow:loss = 0.3961149, step = 4900 (0.613 sec)\n",
      "INFO:tensorflow:Saving checkpoints for 5000 into /tmp/tmpnrc3y_yh/model.ckpt.\n",
      "INFO:tensorflow:Loss for final step: 0.37856424.\n"
     ]
    },
    {
     "data": {
      "text/plain": [
       "<tensorflow_estimator.python.estimator.canned.dnn.DNNClassifierV2 at 0x7f9771a170d0>"
      ]
     },
     "execution_count": 17,
     "metadata": {},
     "output_type": "execute_result"
    }
   ],
   "source": [
    "classifier.train(input_fn = lambda:input_fn(train, train_y, training=True), steps=5000)"
   ]
  },
  {
   "cell_type": "code",
   "execution_count": 18,
   "metadata": {},
   "outputs": [
    {
     "name": "stdout",
     "output_type": "stream",
     "text": [
      "INFO:tensorflow:Calling model_fn.\n",
      "WARNING:tensorflow:Layer dnn is casting an input tensor from dtype float64 to the layer's dtype of float32, which is new behavior in TensorFlow 2.  The layer has dtype float32 because it's dtype defaults to floatx.\n",
      "\n",
      "If you intended to run this layer in float32, you can safely ignore this warning. If in doubt, this warning is likely only an issue if you are porting a TensorFlow 1.X model to TensorFlow 2.\n",
      "\n",
      "To change all layers to have dtype float64 by default, call `tf.keras.backend.set_floatx('float64')`. To change just this layer, pass dtype='float64' to the layer constructor. If you are the author of this layer, you can disable autocasting by passing autocast=False to the base Layer constructor.\n",
      "\n",
      "INFO:tensorflow:Done calling model_fn.\n",
      "INFO:tensorflow:Starting evaluation at 2020-03-20T18:47:37Z\n",
      "INFO:tensorflow:Graph was finalized.\n",
      "INFO:tensorflow:Restoring parameters from /tmp/tmpnrc3y_yh/model.ckpt-5000\n",
      "INFO:tensorflow:Running local_init_op.\n",
      "INFO:tensorflow:Done running local_init_op.\n",
      "INFO:tensorflow:Inference Time : 0.43199s\n",
      "INFO:tensorflow:Finished evaluation at 2020-03-20-18:47:37\n",
      "INFO:tensorflow:Saving dict for global step 5000: accuracy = 0.93333334, average_loss = 0.44524685, global_step = 5000, loss = 0.44524685\n",
      "INFO:tensorflow:Saving 'checkpoint_path' summary for global step 5000: /tmp/tmpnrc3y_yh/model.ckpt-5000\n"
     ]
    },
    {
     "data": {
      "text/plain": [
       "{'accuracy': 0.93333334,\n",
       " 'average_loss': 0.44524685,\n",
       " 'loss': 0.44524685,\n",
       " 'global_step': 5000}"
      ]
     },
     "execution_count": 18,
     "metadata": {},
     "output_type": "execute_result"
    }
   ],
   "source": [
    "classifier.evaluate(input_fn = lambda: input_fn(test, test_y, training=False))"
   ]
  },
  {
   "cell_type": "code",
   "execution_count": null,
   "metadata": {},
   "outputs": [],
   "source": []
  }
 ],
 "metadata": {
  "kernelspec": {
   "display_name": "Python 3",
   "language": "python",
   "name": "python3"
  },
  "language_info": {
   "codemirror_mode": {
    "name": "ipython",
    "version": 3
   },
   "file_extension": ".py",
   "mimetype": "text/x-python",
   "name": "python",
   "nbconvert_exporter": "python",
   "pygments_lexer": "ipython3",
   "version": "3.7.4"
  }
 },
 "nbformat": 4,
 "nbformat_minor": 2
}
